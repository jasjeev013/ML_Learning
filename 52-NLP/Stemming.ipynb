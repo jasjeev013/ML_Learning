{
 "cells": [
  {
   "cell_type": "code",
   "execution_count": 2,
   "metadata": {},
   "outputs": [],
   "source": [
    "import nltk"
   ]
  },
  {
   "cell_type": "code",
   "execution_count": 3,
   "metadata": {},
   "outputs": [],
   "source": [
    "words = [\"eating\",\"eaten\",\"eats\",\"eat\",\"ate\",\"eater\",\"writing\",\"writes\",\"programming\",\"programmer\",\"programmed\",\"program\",\"wrote\",\"written\",\"writter\",\"writting\",\"writed\",\"writen\"]\n"
   ]
  },
  {
   "cell_type": "code",
   "execution_count": 4,
   "metadata": {},
   "outputs": [],
   "source": [
    "from nltk.stem import PorterStemmer"
   ]
  },
  {
   "cell_type": "code",
   "execution_count": 5,
   "metadata": {},
   "outputs": [],
   "source": [
    "porterStemmer = PorterStemmer()"
   ]
  },
  {
   "cell_type": "code",
   "execution_count": 9,
   "metadata": {},
   "outputs": [
    {
     "name": "stdout",
     "output_type": "stream",
     "text": [
      "eating ------> eat\n",
      "eaten ------> eaten\n",
      "eats ------> eat\n",
      "eat ------> eat\n",
      "ate ------> ate\n",
      "eater ------> eater\n",
      "writing ------> write\n",
      "writes ------> write\n",
      "programming ------> program\n",
      "programmer ------> programm\n",
      "programmed ------> program\n",
      "program ------> program\n",
      "wrote ------> wrote\n",
      "written ------> written\n",
      "writter ------> writter\n",
      "writting ------> writ\n",
      "writed ------> write\n",
      "writen ------> writen\n"
     ]
    }
   ],
   "source": [
    "for word in words:\n",
    "    print(word , \"------>\" , porterStemmer.stem(word))"
   ]
  },
  {
   "cell_type": "code",
   "execution_count": 10,
   "metadata": {},
   "outputs": [],
   "source": [
    "from nltk.stem import RegexpStemmer"
   ]
  },
  {
   "cell_type": "code",
   "execution_count": 14,
   "metadata": {},
   "outputs": [],
   "source": [
    "regStemmer = RegexpStemmer('ing$|ed$|er$|s$|e$|ed$|en$',min=4)"
   ]
  },
  {
   "cell_type": "code",
   "execution_count": 16,
   "metadata": {},
   "outputs": [
    {
     "data": {
      "text/plain": [
       "'eat'"
      ]
     },
     "execution_count": 16,
     "metadata": {},
     "output_type": "execute_result"
    }
   ],
   "source": [
    "regStemmer.stem(\"eating\")"
   ]
  },
  {
   "cell_type": "code",
   "execution_count": 17,
   "metadata": {},
   "outputs": [],
   "source": [
    "from nltk.stem import SnowballStemmer"
   ]
  },
  {
   "cell_type": "code",
   "execution_count": 18,
   "metadata": {},
   "outputs": [],
   "source": [
    "stemmer = SnowballStemmer(\"english\")"
   ]
  },
  {
   "cell_type": "code",
   "execution_count": 20,
   "metadata": {},
   "outputs": [
    {
     "name": "stdout",
     "output_type": "stream",
     "text": [
      "eating -------> eat\n",
      "eaten -------> eaten\n",
      "eats -------> eat\n",
      "eat -------> eat\n",
      "ate -------> ate\n",
      "eater -------> eater\n",
      "writing -------> write\n",
      "writes -------> write\n",
      "programming -------> program\n",
      "programmer -------> programm\n",
      "programmed -------> program\n",
      "program -------> program\n",
      "wrote -------> wrote\n",
      "written -------> written\n",
      "writter -------> writter\n",
      "writting -------> writ\n",
      "writed -------> write\n",
      "writen -------> writen\n"
     ]
    }
   ],
   "source": [
    "for word in words:\n",
    "    print(word, \"------->\",stemmer.stem(word))"
   ]
  },
  {
   "cell_type": "code",
   "execution_count": null,
   "metadata": {},
   "outputs": [],
   "source": []
  }
 ],
 "metadata": {
  "kernelspec": {
   "display_name": "Python 3",
   "language": "python",
   "name": "python3"
  },
  "language_info": {
   "codemirror_mode": {
    "name": "ipython",
    "version": 3
   },
   "file_extension": ".py",
   "mimetype": "text/x-python",
   "name": "python",
   "nbconvert_exporter": "python",
   "pygments_lexer": "ipython3",
   "version": "3.12.0"
  }
 },
 "nbformat": 4,
 "nbformat_minor": 2
}
