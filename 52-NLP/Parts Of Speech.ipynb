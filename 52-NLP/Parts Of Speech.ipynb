{
 "cells": [
  {
   "cell_type": "code",
   "execution_count": 1,
   "metadata": {},
   "outputs": [],
   "source": [
    "paragraph = \"\"\"\"\n",
    "Today, I am here to deliver a speech on Dr APJ Abdul Kalam. APJ Abdul Kalam was born to Jainulabdeen and Ashiamma on October 15, 1931. His father was a boat owner and his mother was a homemaker. His family's economic situation was not strong, so at an early age, he began helping his family financially.\n",
    "He graduated in 1955 from the Madras Institute of Technology and graduated from St. Joseph's College, Tiruchirappalli, in Aerospace Engineering. He joined the Defense Research and Development Organization's (DRDO) Aeronautical Development Base as a Chief Scientist after his graduation. He won credit as Project Director-General for making India's first indigenous satellite (SLV III) rocket. It was his ultimate support that brought nuclear power to India. In July 1992, he was appointed Scientific Advisor to the Indian Ministry of Defence. As a national counsellor, he played a significant role in the world-famous nuclear tests at Pokhran II. In 1981, he was awarded the Padma Bhushan Award, in 1909 the Padma Vibhushan, and in 1997 the highest civilian award of India' Bharat Ratna 'for modernizing the defence technology of India and his outstanding contribution.\n",
    "From July 25, 2002 - July 25, 2007, he served as President of India, becoming famous among Indians and receiving a lot of attention from Indian youth. He became popular as the People's President. Kalam worked as a professor, chancellor, and assistant at many institutions after leaving office. He experienced serious cardiac arrest on the evening of July 27, 2015, and fell unconscious and died 2 hours later.\n",
    "In 1999, Kalam published his autobiography and a book called The Wings of Fire. He has written many other books that are useful to the people of every generation.\n",
    "\"\"\""
   ]
  },
  {
   "cell_type": "code",
   "execution_count": 2,
   "metadata": {},
   "outputs": [],
   "source": [
    "from nltk.stem import PorterStemmer\n",
    "from nltk.corpus import stopwords\n",
    "import nltk\n",
    "stemmer = PorterStemmer()\n",
    "sentences = nltk.sent_tokenize(paragraph)"
   ]
  },
  {
   "cell_type": "code",
   "execution_count": 7,
   "metadata": {},
   "outputs": [
    {
     "name": "stderr",
     "output_type": "stream",
     "text": [
      "[nltk_data] Downloading package averaged_perceptron_tagger_eng to\n",
      "[nltk_data]     C:\\Users\\jasje\\AppData\\Roaming\\nltk_data...\n",
      "[nltk_data]   Unzipping taggers\\averaged_perceptron_tagger_eng.zip.\n"
     ]
    },
    {
     "name": "stdout",
     "output_type": "stream",
     "text": [
      "[('``', '``'), ('today', 'NN'), (',', ','), ('deliv', 'NN'), ('speech', 'NN'), ('dr', 'NN'), ('apj', 'NN'), ('abdul', 'NN'), ('kalam', 'NN'), ('.', '.')]\n",
      "[('apj', 'NN'), ('abdul', 'NN'), ('kalam', 'NN'), ('born', 'VBN'), ('jainulabdeen', 'JJ'), ('ashiamma', 'NN'), ('octob', 'NN'), ('15', 'CD'), (',', ','), ('1931', 'CD'), ('.', '.')]\n",
      "[('hi', 'NN'), ('father', 'NN'), ('boat', 'NN'), ('owner', 'NN'), ('mother', 'NN'), ('homemak', 'NN'), ('.', '.')]\n",
      "[('hi', 'NN'), ('famili', 'NN'), (\"'s\", 'POS'), ('econom', 'NN'), ('situat', 'NN'), ('strong', 'JJ'), (',', ','), ('earli', 'JJ'), ('age', 'NN'), (',', ','), ('began', 'VBD'), ('help', 'VB'), ('famili', 'VB'), ('financ', 'NN'), ('.', '.')]\n",
      "[('graduat', 'NN'), ('1955', 'CD'), ('madra', 'NN'), ('institut', 'NN'), ('technolog', 'NN'), ('graduat', 'JJ'), ('st.', 'NN'), ('joseph', 'NN'), (\"'s\", 'POS'), ('colleg', 'NN'), (',', ','), ('tiruchirapp', 'NN'), (',', ','), ('aerospac', 'JJ'), ('engin', 'NN'), ('.', '.')]\n",
      "[('join', 'NN'), ('defen', 'VBZ'), ('research', 'NN'), ('develop', 'VB'), ('organ', 'NN'), (\"'s\", 'POS'), ('(', '('), ('drdo', 'NN'), (')', ')'), ('aeronaut', 'NN'), ('develop', 'VB'), ('base', 'NN'), ('chief', 'JJ'), ('scientist', 'NN'), ('graduat', 'NN'), ('.', '.')]\n",
      "[('credit', 'NN'), ('project', 'NN'), ('director-gen', 'JJ'), ('make', 'VBP'), ('india', 'NN'), (\"'s\", 'POS'), ('first', 'JJ'), ('indigen', 'NN'), ('satellit', 'NN'), ('(', '('), ('slv', 'JJ'), ('iii', 'NN'), (')', ')'), ('rocket', 'NN'), ('.', '.')]\n",
      "[('ultim', 'JJ'), ('support', 'NN'), ('brought', 'VBD'), ('nuclear', 'JJ'), ('power', 'NN'), ('india', 'NN'), ('.', '.')]\n",
      "[('juli', 'NN'), ('1992', 'CD'), (',', ','), ('appoint', 'NN'), ('scientif', 'NN'), ('advisor', 'NN'), ('indian', 'JJ'), ('ministri', 'NN'), ('defenc', 'NN'), ('.', '.')]\n",
      "[('nation', 'NN'), ('counsellor', 'NN'), (',', ','), ('play', 'VB'), ('signif', 'JJ'), ('role', 'NN'), ('world-fam', 'JJ'), ('nuclear', 'JJ'), ('test', 'NN'), ('pokhran', 'NN'), ('ii', 'NN'), ('.', '.')]\n",
      "[('1981', 'CD'), (',', ','), ('award', 'RB'), ('padma', 'NN'), ('bhushan', 'JJ'), ('award', 'RB'), (',', ','), ('1909', 'CD'), ('padma', 'NN'), ('vibhushan', 'NN'), (',', ','), ('1997', 'CD'), ('highest', 'JJS'), ('civilian', 'JJ'), ('award', 'NN'), ('india', 'NN'), (\"'\", \"''\"), ('bharat', 'NN'), ('ratna', 'NN'), (\"'for\", 'POS'), ('modern', 'JJ'), ('defenc', 'NN'), ('technolog', 'NN'), ('india', 'NN'), ('outstand', 'NN'), ('contribut', 'NN'), ('.', '.')]\n",
      "[('juli', 'NN'), ('25', 'CD'), (',', ','), ('2002', 'CD'), ('-', ':'), ('juli', 'NN'), ('25', 'CD'), (',', ','), ('2007', 'CD'), (',', ','), ('serv', 'VBD'), ('presid', 'NN'), ('india', 'NN'), (',', ','), ('becom', 'JJ'), ('famou', 'NN'), ('among', 'IN'), ('indian', 'JJ'), ('receiv', 'NN'), ('lot', 'NN'), ('attent', 'JJ'), ('indian', 'JJ'), ('youth', 'NN'), ('.', '.')]\n",
      "[('becam', 'NN'), ('popular', 'JJ'), ('peopl', 'NN'), (\"'s\", 'POS'), ('presid', 'NN'), ('.', '.')]\n",
      "[('kalam', 'NN'), ('work', 'NN'), ('professor', 'NN'), (',', ','), ('chancellor', 'NN'), (',', ','), ('assist', 'JJ'), ('mani', 'NN'), ('institut', 'NN'), ('leav', 'NN'), ('offic', 'NN'), ('.', '.')]\n",
      "[('experienc', 'NN'), ('seriou', 'NN'), ('cardiac', 'VBP'), ('arrest', 'RB'), ('even', 'RB'), ('juli', 'JJ'), ('27', 'CD'), (',', ','), ('2015', 'CD'), (',', ','), ('fell', 'VBD'), ('unconsci', 'JJ'), ('die', 'RB'), ('2', 'CD'), ('hour', 'NN'), ('later', 'RB'), ('.', '.')]\n",
      "[('1999', 'CD'), (',', ','), ('kalam', 'FW'), ('publish', 'JJ'), ('autobiographi', 'NN'), ('book', 'NN'), ('call', 'NN'), ('wing', 'NN'), ('fire', 'NN'), ('.', '.')]\n",
      "[('written', 'VBN'), ('mani', 'JJ'), ('book', 'NN'), ('use', 'NN'), ('peopl', 'NN'), ('everi', 'NN'), ('gener', 'NN'), ('.', '.')]\n"
     ]
    }
   ],
   "source": [
    "nltk.download('averaged_perceptron_tagger_eng')\n",
    "for i in range(len(sentences)):\n",
    "    words = nltk.word_tokenize(sentences[i])\n",
    "    words = [stemmer.stem(word) for word in words if word not in set(stopwords.words('english'))]\n",
    "    # sentences[i] = ' '.join(words)\n",
    "    poss_tag =  nltk.pos_tag(words)\n",
    "    print(poss_tag)"
   ]
  },
  {
   "cell_type": "code",
   "execution_count": 5,
   "metadata": {},
   "outputs": [
    {
     "data": {
      "text/plain": [
       "['`` today , i deliv speech dr apj abdul kalam .',\n",
       " 'apj abdul kalam born jainulabdeen ashiamma octob 15 , 1931 .',\n",
       " 'hi father boat owner mother homemak .',\n",
       " \"hi famili 's econom situat strong , earli age , began help famili financi .\",\n",
       " \"he graduat 1955 madra institut technolog graduat st. joseph 's colleg , tiruchirapp , aerospac engin .\",\n",
       " \"he join defens research develop organ 's ( drdo ) aeronaut develop base chief scientist graduat .\",\n",
       " \"he credit project director-gener make india 's first indigen satellit ( slv iii ) rocket .\",\n",
       " 'it ultim support brought nuclear power india .',\n",
       " 'in juli 1992 , appoint scientif advisor indian ministri defenc .',\n",
       " 'as nation counsellor , play signific role world-fam nuclear test pokhran ii .',\n",
       " \"in 1981 , award padma bhushan award , 1909 padma vibhushan , 1997 highest civilian award india ' bharat ratna 'for modern defenc technolog india outstand contribut .\",\n",
       " 'from juli 25 , 2002 - juli 25 , 2007 , serv presid india , becom famou among indian receiv lot attent indian youth .',\n",
       " \"he becam popular peopl 's presid .\",\n",
       " 'kalam work professor , chancellor , assist mani institut leav offic .',\n",
       " 'he experienc seriou cardiac arrest even juli 27 , 2015 , fell unconsci die 2 hour later .',\n",
       " 'in 1999 , kalam publish autobiographi book call the wing fire .',\n",
       " 'he written mani book use peopl everi gener .']"
      ]
     },
     "execution_count": 5,
     "metadata": {},
     "output_type": "execute_result"
    }
   ],
   "source": [
    "sentences"
   ]
  },
  {
   "cell_type": "code",
   "execution_count": null,
   "metadata": {},
   "outputs": [],
   "source": []
  }
 ],
 "metadata": {
  "kernelspec": {
   "display_name": "Python 3",
   "language": "python",
   "name": "python3"
  },
  "language_info": {
   "codemirror_mode": {
    "name": "ipython",
    "version": 3
   },
   "file_extension": ".py",
   "mimetype": "text/x-python",
   "name": "python",
   "nbconvert_exporter": "python",
   "pygments_lexer": "ipython3",
   "version": "3.12.0"
  }
 },
 "nbformat": 4,
 "nbformat_minor": 2
}
