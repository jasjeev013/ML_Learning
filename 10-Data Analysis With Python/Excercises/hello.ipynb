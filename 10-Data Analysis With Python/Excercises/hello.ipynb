{
 "cells": [
  {
   "cell_type": "code",
   "execution_count": 1,
   "metadata": {},
   "outputs": [],
   "source": [
    "import numpy as np"
   ]
  },
  {
   "cell_type": "code",
   "execution_count": 34,
   "metadata": {},
   "outputs": [
    {
     "data": {
      "text/plain": [
       "array([[ 1,  1,  2,  3],\n",
       "       [ 4,  1,  6,  7],\n",
       "       [ 8,  9,  1, 11],\n",
       "       [12, 13, 14,  1]])"
      ]
     },
     "execution_count": 34,
     "metadata": {},
     "output_type": "execute_result"
    }
   ],
   "source": [
    "arr1 = np.arange(0,20,1).reshape(4,5)\n",
    "array = np.random.randint(1, 21, size=(5, 5))\n",
    "\n",
    "np.fill_diagonal(array, 1)\n",
    "\n",
    "arr2 = np.arange(0,16,1).reshape(4,4)\n",
    "np.fill_diagonal(arr2, 1)\n",
    "arr2\n"
   ]
  },
  {
   "cell_type": "code",
   "execution_count": 40,
   "metadata": {},
   "outputs": [
    {
     "data": {
      "text/plain": [
       "array([[ 2,  3],\n",
       "       [ 8,  9],\n",
       "       [14, 15],\n",
       "       [20, 21],\n",
       "       [26, 27],\n",
       "       [32, 33]])"
      ]
     },
     "execution_count": 40,
     "metadata": {},
     "output_type": "execute_result"
    }
   ],
   "source": [
    "arrs = np.arange(0,36).reshape(6,6)\n",
    "arrs[:,2:4]"
   ]
  },
  {
   "cell_type": "code",
   "execution_count": 21,
   "metadata": {},
   "outputs": [
    {
     "name": "stdout",
     "output_type": "stream",
     "text": [
      "[[15 18  4 16]\n",
      " [ 1  8 11 15]\n",
      " [15 14 11 12]] \n",
      "\n",
      " [[10 11  3  6]\n",
      " [ 2 18 16  4]\n",
      " [10  3  2 13]]\n"
     ]
    }
   ],
   "source": [
    "import numpy as np\n",
    "array1 = np.random.randint(1, 21, size=(3, 4))\n",
    "\n",
    "# Create the second 3x4 array filled with random integers between 1 and 20\n",
    "array2 = np.random.randint(1, 21, size=(3, 4))\n",
    "print(array1 , \"\\n\\n\", array2)"
   ]
  },
  {
   "cell_type": "code",
   "execution_count": 38,
   "metadata": {},
   "outputs": [
    {
     "name": "stdout",
     "output_type": "stream",
     "text": [
      "5.025693981929262\n"
     ]
    }
   ],
   "source": [
    "five = np.random.randint(1, 21, size=(5,5))\n",
    "print(five.std())"
   ]
  },
  {
   "cell_type": "code",
   "execution_count": 40,
   "metadata": {},
   "outputs": [
    {
     "data": {
      "text/plain": [
       "array([[-1.68458833, -1.58832614, -1.49206395, -1.39580176, -1.29953957,\n",
       "        -1.20327738],\n",
       "       [-1.10701519, -1.010753  , -0.91449081, -0.81822862, -0.72196643,\n",
       "        -0.62570424],\n",
       "       [-0.52944205, -0.43317986, -0.33691767, -0.24065548, -0.14439329,\n",
       "        -0.0481311 ],\n",
       "       [ 0.0481311 ,  0.14439329,  0.24065548,  0.33691767,  0.43317986,\n",
       "         0.52944205],\n",
       "       [ 0.62570424,  0.72196643,  0.81822862,  0.91449081,  1.010753  ,\n",
       "         1.10701519],\n",
       "       [ 1.20327738,  1.29953957,  1.39580176,  1.49206395,  1.58832614,\n",
       "         1.68458833]])"
      ]
     },
     "execution_count": 40,
     "metadata": {},
     "output_type": "execute_result"
    }
   ],
   "source": [
    "arrs = np.arange(0,36).reshape(6,6)\n",
    "mean = arrs.mean()\n",
    "std = arrs.std()\n",
    "normalize = (arrs-mean)/std\n",
    "normalize\n"
   ]
  },
  {
   "cell_type": "code",
   "execution_count": 42,
   "metadata": {},
   "outputs": [
    {
     "data": {
      "text/plain": [
       "array([('Charlie', 22, 80. ), ('Alice', 25, 60.5), ('Bob', 30, 75.2),\n",
       "       ('David', 35, 70.1)],\n",
       "      dtype=[('name', '<U10'), ('age', '<i4'), ('weight', '<f4')])"
      ]
     },
     "execution_count": 42,
     "metadata": {},
     "output_type": "execute_result"
    }
   ],
   "source": [
    "dtype = [('name', 'U10'), ('age', 'i4'), ('weight', 'f4')]  # 'U10' for strings (max length 10), 'i4' for integers, 'f4' for floats\n",
    "\n",
    "# Step 2: Create the structured array with some data\n",
    "data = np.array([('Alice', 25, 60.5),\n",
    "                 ('Bob', 30, 75.2),\n",
    "                 ('Charlie', 22, 80.0),\n",
    "                 ('David', 35, 70.1)],\n",
    "                dtype=dtype)\n",
    "\n",
    "# Step 3: Sort the array by the 'age' field\n",
    "\n",
    "sorted_data = np.sort(data, order='age')\n",
    "\n",
    "sorted_data"
   ]
  },
  {
   "cell_type": "code",
   "execution_count": 44,
   "metadata": {},
   "outputs": [
    {
     "name": "stdout",
     "output_type": "stream",
     "text": [
      "Original Array:\n",
      "[[5 1 9]\n",
      " [4 5 9]\n",
      " [2 8 5]]\n",
      "\n",
      "Masked Array with Diagonal Masked and Replaced by Mean:\n",
      "[[5 1 9]\n",
      " [4 5 9]\n",
      " [2 8 5]]\n"
     ]
    }
   ],
   "source": [
    "import numpy.ma as ma\n",
    "\n",
    "# Step 1: Create a random integer array of shape (3, 3)\n",
    "arr = np.random.randint(1, 10, size=(3, 3))\n",
    "\n",
    "# Step 2: Mask the diagonal elements\n",
    "mask = np.eye(3, dtype=bool)  # This creates a boolean mask for the diagonal\n",
    "masked_arr = ma.masked_array(arr, mask=mask)\n",
    "\n",
    "# Step 3: Compute the mean of the unmasked elements\n",
    "mean_value = masked_arr.mean()\n",
    "\n",
    "# Step 4: Replace the masked elements (diagonal) with the mean of the unmasked elements\n",
    "masked_arr[mask] = mean_value\n",
    "\n",
    "# Print the original and modified masked array\n",
    "print(\"Original Array:\")\n",
    "print(arr)\n",
    "print(\"\\nMasked Array with Diagonal Masked and Replaced by Mean:\")\n",
    "print(masked_arr)"
   ]
  },
  {
   "cell_type": "code",
   "execution_count": null,
   "metadata": {},
   "outputs": [],
   "source": []
  },
  {
   "cell_type": "code",
   "execution_count": 45,
   "metadata": {},
   "outputs": [],
   "source": [
    "example = np.random.randint(1, 10, size=(3, 3))"
   ]
  }
 ],
 "metadata": {
  "kernelspec": {
   "display_name": "Python 3",
   "language": "python",
   "name": "python3"
  },
  "language_info": {
   "codemirror_mode": {
    "name": "ipython",
    "version": 3
   },
   "file_extension": ".py",
   "mimetype": "text/x-python",
   "name": "python",
   "nbconvert_exporter": "python",
   "pygments_lexer": "ipython3",
   "version": "3.12.0"
  }
 },
 "nbformat": 4,
 "nbformat_minor": 2
}
